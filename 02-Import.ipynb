{
 "cells": [
  {
   "cell_type": "markdown",
   "metadata": {},
   "source": [
    "# 02 - Import"
   ]
  },
  {
   "cell_type": "markdown",
   "metadata": {},
   "source": [
    "< [**Previous**: 01 - Introduction](01-Introduction.ipynb) | [**Next**: 03 - Tidy](03-Tidy.ipynb) >"
   ]
  },
  {
   "cell_type": "code",
   "execution_count": 1,
   "metadata": {},
   "outputs": [],
   "source": [
    "import numpy as np\n",
    "import pandas as pd"
   ]
  },
  {
   "cell_type": "markdown",
   "metadata": {},
   "source": [
    "We have 4 data files to work with. Two are from NBC News, which contain tweets and profile information on verified Russian trolls. The other two are from *data.world* containing tweets and profile information on U.S. politicians, who we must assume are not Russian trolls."
   ]
  },
  {
   "cell_type": "code",
   "execution_count": 2,
   "metadata": {},
   "outputs": [],
   "source": [
    "# WARNING: This code may take over a minute to run depending on internet connection. \n",
    "# It takes 30 seconds on the 3rd floor of Kennedy Library on SecureMustangWireless.\n",
    "\n",
    "date_cols = ['created_at']\n",
    "\n",
    "pol_users = pd.read_csv('https://query.data.world/s/S_-EJJtSSyYdYg4Qdc4pjx66FSanaL',\n",
    "                         sep=';',\n",
    "                         parse_dates=date_cols,\n",
    "                         infer_datetime_format=True,\n",
    "                         encoding='utf-8')\n",
    "\n",
    "pol_tweets = pd.read_csv('https://query.data.world/s/xrLAI3BN0yG7kmVs1l063pkreHLuBh', \n",
    "                         sep=';',\n",
    "                         parse_dates=date_cols,\n",
    "                         infer_datetime_format=True,\n",
    "                         encoding='utf-8')\n",
    "\n",
    "troll_tweets = pd.read_csv('/data/skhillon/troll_tweets.csv', \n",
    "                           parse_dates=date_cols, \n",
    "                           infer_datetime_format=True,\n",
    "                           encoding='utf-8')\n",
    "\n",
    "troll_users = pd.read_csv('/data/skhillon/troll_users.csv', \n",
    "                          parse_dates=date_cols, \n",
    "                          infer_datetime_format=True,\n",
    "                          encoding='utf-8')"
   ]
  },
  {
   "cell_type": "markdown",
   "metadata": {},
   "source": [
    "## Preview"
   ]
  },
  {
   "cell_type": "markdown",
   "metadata": {},
   "source": [
    "Let's preview each of the DataFrames:"
   ]
  },
  {
   "cell_type": "code",
   "execution_count": 3,
   "metadata": {},
   "outputs": [
    {
     "data": {
      "text/html": [
       "<div>\n",
       "<style scoped>\n",
       "    .dataframe tbody tr th:only-of-type {\n",
       "        vertical-align: middle;\n",
       "    }\n",
       "\n",
       "    .dataframe tbody tr th {\n",
       "        vertical-align: top;\n",
       "    }\n",
       "\n",
       "    .dataframe thead th {\n",
       "        text-align: right;\n",
       "    }\n",
       "</style>\n",
       "<table border=\"1\" class=\"dataframe\">\n",
       "  <thead>\n",
       "    <tr style=\"text-align: right;\">\n",
       "      <th></th>\n",
       "      <th>id</th>\n",
       "      <th>screen_name</th>\n",
       "      <th>description</th>\n",
       "      <th>created_at</th>\n",
       "      <th>location</th>\n",
       "      <th>is_verified</th>\n",
       "      <th>latest_following_count</th>\n",
       "      <th>latest_followers_count</th>\n",
       "      <th>latest_status_count</th>\n",
       "      <th>array_agg</th>\n",
       "    </tr>\n",
       "  </thead>\n",
       "  <tbody>\n",
       "    <tr>\n",
       "      <th>0</th>\n",
       "      <td>2962813893</td>\n",
       "      <td>RepStefanik</td>\n",
       "      <td>Official Twitter Account for Congresswoman Eli...</td>\n",
       "      <td>2015-01-05 22:17:51</td>\n",
       "      <td>NaN</td>\n",
       "      <td>t</td>\n",
       "      <td>246</td>\n",
       "      <td>9499</td>\n",
       "      <td>2082</td>\n",
       "      <td>{congressperson,Republican,republican}</td>\n",
       "    </tr>\n",
       "    <tr>\n",
       "      <th>1</th>\n",
       "      <td>1058256326</td>\n",
       "      <td>RepChrisCollins</td>\n",
       "      <td>Proud to represent New York’s 27th Congression...</td>\n",
       "      <td>2013-01-03 16:55:01</td>\n",
       "      <td>NaN</td>\n",
       "      <td>t</td>\n",
       "      <td>587</td>\n",
       "      <td>10874</td>\n",
       "      <td>2916</td>\n",
       "      <td>{congressperson,Republican,republican}</td>\n",
       "    </tr>\n",
       "    <tr>\n",
       "      <th>2</th>\n",
       "      <td>17494010</td>\n",
       "      <td>SenSchumer</td>\n",
       "      <td>Official account of Senator Chuck Schumer - Ne...</td>\n",
       "      <td>2008-11-19 20:10:20</td>\n",
       "      <td>New York, NY</td>\n",
       "      <td>t</td>\n",
       "      <td>26578</td>\n",
       "      <td>522353</td>\n",
       "      <td>10076</td>\n",
       "      <td>{senator,Democrat,democrat}</td>\n",
       "    </tr>\n",
       "    <tr>\n",
       "      <th>3</th>\n",
       "      <td>2955485182</td>\n",
       "      <td>SenatorRounds</td>\n",
       "      <td>U.S. Senator for South Dakota</td>\n",
       "      <td>2015-01-01 20:23:49</td>\n",
       "      <td>Pierre, South Dakota</td>\n",
       "      <td>t</td>\n",
       "      <td>542</td>\n",
       "      <td>11180</td>\n",
       "      <td>1622</td>\n",
       "      <td>{senator,Republican,republican}</td>\n",
       "    </tr>\n",
       "    <tr>\n",
       "      <th>4</th>\n",
       "      <td>339852137</td>\n",
       "      <td>SupJaniceHahn</td>\n",
       "      <td>Proudly representing the 4th District of Los A...</td>\n",
       "      <td>2011-07-21 19:22:22</td>\n",
       "      <td>San Pedro, CA</td>\n",
       "      <td>t</td>\n",
       "      <td>1738</td>\n",
       "      <td>13050</td>\n",
       "      <td>4218</td>\n",
       "      <td>{congressperson,Democrat}</td>\n",
       "    </tr>\n",
       "  </tbody>\n",
       "</table>\n",
       "</div>"
      ],
      "text/plain": [
       "           id      screen_name  \\\n",
       "0  2962813893      RepStefanik   \n",
       "1  1058256326  RepChrisCollins   \n",
       "2    17494010       SenSchumer   \n",
       "3  2955485182    SenatorRounds   \n",
       "4   339852137    SupJaniceHahn   \n",
       "\n",
       "                                         description          created_at  \\\n",
       "0  Official Twitter Account for Congresswoman Eli... 2015-01-05 22:17:51   \n",
       "1  Proud to represent New York’s 27th Congression... 2013-01-03 16:55:01   \n",
       "2  Official account of Senator Chuck Schumer - Ne... 2008-11-19 20:10:20   \n",
       "3                      U.S. Senator for South Dakota 2015-01-01 20:23:49   \n",
       "4  Proudly representing the 4th District of Los A... 2011-07-21 19:22:22   \n",
       "\n",
       "               location is_verified  latest_following_count  \\\n",
       "0                   NaN           t                     246   \n",
       "1                   NaN           t                     587   \n",
       "2          New York, NY           t                   26578   \n",
       "3  Pierre, South Dakota           t                     542   \n",
       "4         San Pedro, CA           t                    1738   \n",
       "\n",
       "   latest_followers_count  latest_status_count  \\\n",
       "0                    9499                 2082   \n",
       "1                   10874                 2916   \n",
       "2                  522353                10076   \n",
       "3                   11180                 1622   \n",
       "4                   13050                 4218   \n",
       "\n",
       "                                array_agg  \n",
       "0  {congressperson,Republican,republican}  \n",
       "1  {congressperson,Republican,republican}  \n",
       "2             {senator,Democrat,democrat}  \n",
       "3         {senator,Republican,republican}  \n",
       "4               {congressperson,Democrat}  "
      ]
     },
     "execution_count": 3,
     "metadata": {},
     "output_type": "execute_result"
    }
   ],
   "source": [
    "pol_users.head()"
   ]
  },
  {
   "cell_type": "code",
   "execution_count": 4,
   "metadata": {},
   "outputs": [
    {
     "data": {
      "text/html": [
       "<div>\n",
       "<style scoped>\n",
       "    .dataframe tbody tr th:only-of-type {\n",
       "        vertical-align: middle;\n",
       "    }\n",
       "\n",
       "    .dataframe tbody tr th {\n",
       "        vertical-align: top;\n",
       "    }\n",
       "\n",
       "    .dataframe thead th {\n",
       "        text-align: right;\n",
       "    }\n",
       "</style>\n",
       "<table border=\"1\" class=\"dataframe\">\n",
       "  <thead>\n",
       "    <tr style=\"text-align: right;\">\n",
       "      <th></th>\n",
       "      <th>id</th>\n",
       "      <th>user_id</th>\n",
       "      <th>created_at</th>\n",
       "      <th>tweet_text</th>\n",
       "      <th>hashtag_entities</th>\n",
       "      <th>url_entities</th>\n",
       "      <th>favorites_count</th>\n",
       "      <th>retweet_count</th>\n",
       "      <th>quoted_status_id</th>\n",
       "      <th>in_reply_to_status_id</th>\n",
       "    </tr>\n",
       "  </thead>\n",
       "  <tbody>\n",
       "    <tr>\n",
       "      <th>0</th>\n",
       "      <td>488814426666315776</td>\n",
       "      <td>1061385474</td>\n",
       "      <td>2014-07-14 22:36:55</td>\n",
       "      <td>I enjoyed speaking with @actuary_dot_org about...</td>\n",
       "      <td>{CARECorps}</td>\n",
       "      <td>{}</td>\n",
       "      <td>3</td>\n",
       "      <td>3</td>\n",
       "      <td>NaN</td>\n",
       "      <td>NaN</td>\n",
       "    </tr>\n",
       "    <tr>\n",
       "      <th>1</th>\n",
       "      <td>834855385416757249</td>\n",
       "      <td>2970279814</td>\n",
       "      <td>2017-02-23 20:00:09</td>\n",
       "      <td>We are concerned &amp;amp; actively seeking answer...</td>\n",
       "      <td>{}</td>\n",
       "      <td>{http://bit.ly/2lzZl8M}</td>\n",
       "      <td>23</td>\n",
       "      <td>12</td>\n",
       "      <td>NaN</td>\n",
       "      <td>NaN</td>\n",
       "    </tr>\n",
       "    <tr>\n",
       "      <th>2</th>\n",
       "      <td>659061646556557312</td>\n",
       "      <td>240812994</td>\n",
       "      <td>2015-10-27 17:38:35</td>\n",
       "      <td>RT @NYCEDC: Thanks to @BPEricAdams, @CMMathieu...</td>\n",
       "      <td>{}</td>\n",
       "      <td>{}</td>\n",
       "      <td>0</td>\n",
       "      <td>6</td>\n",
       "      <td>NaN</td>\n",
       "      <td>NaN</td>\n",
       "    </tr>\n",
       "    <tr>\n",
       "      <th>3</th>\n",
       "      <td>501772450859061248</td>\n",
       "      <td>1321432124</td>\n",
       "      <td>2014-08-19 16:47:29</td>\n",
       "      <td>How @GovernorCorbett's $1 Billion in cuts to e...</td>\n",
       "      <td>{PublicSchools,pagov}</td>\n",
       "      <td>{http://t.co/Juw6dKWBe2}</td>\n",
       "      <td>4</td>\n",
       "      <td>10</td>\n",
       "      <td>NaN</td>\n",
       "      <td>NaN</td>\n",
       "    </tr>\n",
       "    <tr>\n",
       "      <th>4</th>\n",
       "      <td>781520572937363457</td>\n",
       "      <td>2963445730</td>\n",
       "      <td>2016-09-29 15:46:39</td>\n",
       "      <td>RT @GovExecEvents: ICYM @GerryConnolly &amp;amp; @...</td>\n",
       "      <td>{FITARAForward}</td>\n",
       "      <td>{}</td>\n",
       "      <td>0</td>\n",
       "      <td>4</td>\n",
       "      <td>NaN</td>\n",
       "      <td>NaN</td>\n",
       "    </tr>\n",
       "  </tbody>\n",
       "</table>\n",
       "</div>"
      ],
      "text/plain": [
       "                   id     user_id          created_at  \\\n",
       "0  488814426666315776  1061385474 2014-07-14 22:36:55   \n",
       "1  834855385416757249  2970279814 2017-02-23 20:00:09   \n",
       "2  659061646556557312   240812994 2015-10-27 17:38:35   \n",
       "3  501772450859061248  1321432124 2014-08-19 16:47:29   \n",
       "4  781520572937363457  2963445730 2016-09-29 15:46:39   \n",
       "\n",
       "                                          tweet_text       hashtag_entities  \\\n",
       "0  I enjoyed speaking with @actuary_dot_org about...            {CARECorps}   \n",
       "1  We are concerned &amp; actively seeking answer...                     {}   \n",
       "2  RT @NYCEDC: Thanks to @BPEricAdams, @CMMathieu...                     {}   \n",
       "3  How @GovernorCorbett's $1 Billion in cuts to e...  {PublicSchools,pagov}   \n",
       "4  RT @GovExecEvents: ICYM @GerryConnolly &amp; @...        {FITARAForward}   \n",
       "\n",
       "               url_entities  favorites_count  retweet_count  quoted_status_id  \\\n",
       "0                        {}                3              3               NaN   \n",
       "1   {http://bit.ly/2lzZl8M}               23             12               NaN   \n",
       "2                        {}                0              6               NaN   \n",
       "3  {http://t.co/Juw6dKWBe2}                4             10               NaN   \n",
       "4                        {}                0              4               NaN   \n",
       "\n",
       "   in_reply_to_status_id  \n",
       "0                    NaN  \n",
       "1                    NaN  \n",
       "2                    NaN  \n",
       "3                    NaN  \n",
       "4                    NaN  "
      ]
     },
     "execution_count": 4,
     "metadata": {},
     "output_type": "execute_result"
    }
   ],
   "source": [
    "pol_tweets.head()"
   ]
  },
  {
   "cell_type": "code",
   "execution_count": 5,
   "metadata": {},
   "outputs": [
    {
     "data": {
      "text/html": [
       "<div>\n",
       "<style scoped>\n",
       "    .dataframe tbody tr th:only-of-type {\n",
       "        vertical-align: middle;\n",
       "    }\n",
       "\n",
       "    .dataframe tbody tr th {\n",
       "        vertical-align: top;\n",
       "    }\n",
       "\n",
       "    .dataframe thead th {\n",
       "        text-align: right;\n",
       "    }\n",
       "</style>\n",
       "<table border=\"1\" class=\"dataframe\">\n",
       "  <thead>\n",
       "    <tr style=\"text-align: right;\">\n",
       "      <th></th>\n",
       "      <th>id</th>\n",
       "      <th>location</th>\n",
       "      <th>name</th>\n",
       "      <th>followers_count</th>\n",
       "      <th>statuses_count</th>\n",
       "      <th>time_zone</th>\n",
       "      <th>verified</th>\n",
       "      <th>lang</th>\n",
       "      <th>screen_name</th>\n",
       "      <th>description</th>\n",
       "      <th>created_at</th>\n",
       "      <th>favourites_count</th>\n",
       "      <th>friends_count</th>\n",
       "      <th>listed_count</th>\n",
       "    </tr>\n",
       "  </thead>\n",
       "  <tbody>\n",
       "    <tr>\n",
       "      <th>0</th>\n",
       "      <td>100345056.0</td>\n",
       "      <td>still ⬆️Block⤵️Corner⬇️street</td>\n",
       "      <td>#Ezekiel2517✨...</td>\n",
       "      <td>1053.0</td>\n",
       "      <td>31858.0</td>\n",
       "      <td>NaN</td>\n",
       "      <td>False</td>\n",
       "      <td>en</td>\n",
       "      <td>SCOTTGOHARD</td>\n",
       "      <td>CELEBRITY TRAINER ✨#424W147th✨ #CrossfitCoach ...</td>\n",
       "      <td>2009-12-29 23:15:22</td>\n",
       "      <td>2774.0</td>\n",
       "      <td>1055.0</td>\n",
       "      <td>35.0</td>\n",
       "    </tr>\n",
       "    <tr>\n",
       "      <th>1</th>\n",
       "      <td>247165706.0</td>\n",
       "      <td>Chicago, IL</td>\n",
       "      <td>B E C K S T E R✨</td>\n",
       "      <td>650.0</td>\n",
       "      <td>6742.0</td>\n",
       "      <td>Mountain Time (US &amp; Canada)</td>\n",
       "      <td>False</td>\n",
       "      <td>en</td>\n",
       "      <td>Beckster319</td>\n",
       "      <td>Rebecca Lynn Hirschfeld Actress.Model.Writer.A...</td>\n",
       "      <td>2011-02-04 06:38:45</td>\n",
       "      <td>7273.0</td>\n",
       "      <td>896.0</td>\n",
       "      <td>30.0</td>\n",
       "    </tr>\n",
       "    <tr>\n",
       "      <th>2</th>\n",
       "      <td>249538861.0</td>\n",
       "      <td>NaN</td>\n",
       "      <td>Chris Osborne</td>\n",
       "      <td>44.0</td>\n",
       "      <td>843.0</td>\n",
       "      <td>NaN</td>\n",
       "      <td>False</td>\n",
       "      <td>en</td>\n",
       "      <td>skatewake1994</td>\n",
       "      <td>NaN</td>\n",
       "      <td>2011-02-09 07:38:44</td>\n",
       "      <td>227.0</td>\n",
       "      <td>154.0</td>\n",
       "      <td>1.0</td>\n",
       "    </tr>\n",
       "    <tr>\n",
       "      <th>3</th>\n",
       "      <td>449689677.0</td>\n",
       "      <td>NaN</td>\n",
       "      <td>Рамзан Кадыров</td>\n",
       "      <td>94773.0</td>\n",
       "      <td>10877.0</td>\n",
       "      <td>Moscow</td>\n",
       "      <td>False</td>\n",
       "      <td>ru</td>\n",
       "      <td>KadirovRussia</td>\n",
       "      <td>Пародийный аккаунт. Озвучиваю то, что политика...</td>\n",
       "      <td>2011-12-29 11:31:09</td>\n",
       "      <td>0.0</td>\n",
       "      <td>7.0</td>\n",
       "      <td>691.0</td>\n",
       "    </tr>\n",
       "    <tr>\n",
       "      <th>4</th>\n",
       "      <td>471868887.0</td>\n",
       "      <td>Санкт-Петербург, Россия</td>\n",
       "      <td>Маргарита Саваж</td>\n",
       "      <td>23305.0</td>\n",
       "      <td>18401.0</td>\n",
       "      <td>Volgograd</td>\n",
       "      <td>False</td>\n",
       "      <td>ru</td>\n",
       "      <td>MargoSavazh</td>\n",
       "      <td>Честь имею. Нагло врать не умею.</td>\n",
       "      <td>2012-01-23 10:26:25</td>\n",
       "      <td>1480.0</td>\n",
       "      <td>8021.0</td>\n",
       "      <td>231.0</td>\n",
       "    </tr>\n",
       "  </tbody>\n",
       "</table>\n",
       "</div>"
      ],
      "text/plain": [
       "            id                       location              name  \\\n",
       "0  100345056.0  still ⬆️Block⤵️Corner⬇️street  #Ezekiel2517✨...   \n",
       "1  247165706.0                    Chicago, IL  B E C K S T E R✨   \n",
       "2  249538861.0                            NaN     Chris Osborne   \n",
       "3  449689677.0                            NaN    Рамзан Кадыров   \n",
       "4  471868887.0        Санкт-Петербург, Россия   Маргарита Саваж   \n",
       "\n",
       "   followers_count  statuses_count                    time_zone verified lang  \\\n",
       "0           1053.0         31858.0                          NaN    False   en   \n",
       "1            650.0          6742.0  Mountain Time (US & Canada)    False   en   \n",
       "2             44.0           843.0                          NaN    False   en   \n",
       "3          94773.0         10877.0                       Moscow    False   ru   \n",
       "4          23305.0         18401.0                    Volgograd    False   ru   \n",
       "\n",
       "     screen_name                                        description  \\\n",
       "0    SCOTTGOHARD  CELEBRITY TRAINER ✨#424W147th✨ #CrossfitCoach ...   \n",
       "1    Beckster319  Rebecca Lynn Hirschfeld Actress.Model.Writer.A...   \n",
       "2  skatewake1994                                                NaN   \n",
       "3  KadirovRussia  Пародийный аккаунт. Озвучиваю то, что политика...   \n",
       "4    MargoSavazh                   Честь имею. Нагло врать не умею.   \n",
       "\n",
       "           created_at  favourites_count  friends_count  listed_count  \n",
       "0 2009-12-29 23:15:22            2774.0         1055.0          35.0  \n",
       "1 2011-02-04 06:38:45            7273.0          896.0          30.0  \n",
       "2 2011-02-09 07:38:44             227.0          154.0           1.0  \n",
       "3 2011-12-29 11:31:09               0.0            7.0         691.0  \n",
       "4 2012-01-23 10:26:25            1480.0         8021.0         231.0  "
      ]
     },
     "execution_count": 5,
     "metadata": {},
     "output_type": "execute_result"
    }
   ],
   "source": [
    "troll_users.head()"
   ]
  },
  {
   "cell_type": "code",
   "execution_count": 6,
   "metadata": {},
   "outputs": [
    {
     "data": {
      "text/html": [
       "<div>\n",
       "<style scoped>\n",
       "    .dataframe tbody tr th:only-of-type {\n",
       "        vertical-align: middle;\n",
       "    }\n",
       "\n",
       "    .dataframe tbody tr th {\n",
       "        vertical-align: top;\n",
       "    }\n",
       "\n",
       "    .dataframe thead th {\n",
       "        text-align: right;\n",
       "    }\n",
       "</style>\n",
       "<table border=\"1\" class=\"dataframe\">\n",
       "  <thead>\n",
       "    <tr style=\"text-align: right;\">\n",
       "      <th></th>\n",
       "      <th>user_id</th>\n",
       "      <th>user_key</th>\n",
       "      <th>created_at</th>\n",
       "      <th>created_str</th>\n",
       "      <th>retweet_count</th>\n",
       "      <th>retweeted</th>\n",
       "      <th>favorite_count</th>\n",
       "      <th>text</th>\n",
       "      <th>tweet_id</th>\n",
       "      <th>source</th>\n",
       "      <th>hashtags</th>\n",
       "      <th>expanded_urls</th>\n",
       "      <th>posted</th>\n",
       "      <th>mentions</th>\n",
       "      <th>retweeted_status_id</th>\n",
       "      <th>in_reply_to_status_id</th>\n",
       "    </tr>\n",
       "  </thead>\n",
       "  <tbody>\n",
       "    <tr>\n",
       "      <th>0</th>\n",
       "      <td>2.532612e+09</td>\n",
       "      <td>kathiemrr</td>\n",
       "      <td>1488207240000</td>\n",
       "      <td>2017-02-27 14:54:00</td>\n",
       "      <td>NaN</td>\n",
       "      <td>NaN</td>\n",
       "      <td>NaN</td>\n",
       "      <td>#ThingsDoneByMistake kissing auntie in the lips</td>\n",
       "      <td>8.362279e+17</td>\n",
       "      <td>NaN</td>\n",
       "      <td>[\"ThingsDoneByMistake\"]</td>\n",
       "      <td>[]</td>\n",
       "      <td>POSTED</td>\n",
       "      <td>[]</td>\n",
       "      <td>NaN</td>\n",
       "      <td>NaN</td>\n",
       "    </tr>\n",
       "    <tr>\n",
       "      <th>1</th>\n",
       "      <td>2.531160e+09</td>\n",
       "      <td>traceyhappymom</td>\n",
       "      <td>1471272620000</td>\n",
       "      <td>2016-08-15 14:50:20</td>\n",
       "      <td>NaN</td>\n",
       "      <td>NaN</td>\n",
       "      <td>NaN</td>\n",
       "      <td>RT @mc_derpin: #TheOlderWeGet the more pessimi...</td>\n",
       "      <td>7.651989e+17</td>\n",
       "      <td>NaN</td>\n",
       "      <td>[\"TheOlderWeGet\"]</td>\n",
       "      <td>[]</td>\n",
       "      <td>POSTED</td>\n",
       "      <td>[]</td>\n",
       "      <td>NaN</td>\n",
       "      <td>NaN</td>\n",
       "    </tr>\n",
       "    <tr>\n",
       "      <th>2</th>\n",
       "      <td>NaN</td>\n",
       "      <td>evewebster373</td>\n",
       "      <td>1435701369000</td>\n",
       "      <td>2015-06-30 21:56:09</td>\n",
       "      <td>NaN</td>\n",
       "      <td>NaN</td>\n",
       "      <td>NaN</td>\n",
       "      <td>RT @dmataconis: Ready To Feel Like A Failure? ...</td>\n",
       "      <td>6.160023e+17</td>\n",
       "      <td>NaN</td>\n",
       "      <td>[]</td>\n",
       "      <td>[]</td>\n",
       "      <td>POSTED</td>\n",
       "      <td>[]</td>\n",
       "      <td>NaN</td>\n",
       "      <td>NaN</td>\n",
       "    </tr>\n",
       "    <tr>\n",
       "      <th>3</th>\n",
       "      <td>4.840552e+09</td>\n",
       "      <td>blacktolive</td>\n",
       "      <td>1474013088000</td>\n",
       "      <td>2016-09-16 08:04:48</td>\n",
       "      <td>18.0</td>\n",
       "      <td>False</td>\n",
       "      <td>17.0</td>\n",
       "      <td>Amen! #blacklivesmatter https://t.co/wGffaOqgzl</td>\n",
       "      <td>7.766933e+17</td>\n",
       "      <td>&lt;a href=\"http://twitter.com\" rel=\"nofollow\"&gt;Tw...</td>\n",
       "      <td>[\"Blacklivesmatter\"]</td>\n",
       "      <td>[]</td>\n",
       "      <td>POSTED</td>\n",
       "      <td>[]</td>\n",
       "      <td>NaN</td>\n",
       "      <td>NaN</td>\n",
       "    </tr>\n",
       "    <tr>\n",
       "      <th>4</th>\n",
       "      <td>1.694026e+09</td>\n",
       "      <td>jacquelinisbest</td>\n",
       "      <td>1474227985000</td>\n",
       "      <td>2016-09-18 19:46:25</td>\n",
       "      <td>0.0</td>\n",
       "      <td>False</td>\n",
       "      <td>0.0</td>\n",
       "      <td>RT @NahBabyNah: Twitchy: Chuck Todd caught out...</td>\n",
       "      <td>7.775946e+17</td>\n",
       "      <td>&lt;a href=\"http://twitter.com\" rel=\"nofollow\"&gt;Tw...</td>\n",
       "      <td>[\"WakeUpAmerica\"]</td>\n",
       "      <td>[\"http://ln.is/twitchy.com/loriz-31/3yafU\"]</td>\n",
       "      <td>POSTED</td>\n",
       "      <td>[\"nahbabynah\"]</td>\n",
       "      <td>7.775915e+17</td>\n",
       "      <td>NaN</td>\n",
       "    </tr>\n",
       "  </tbody>\n",
       "</table>\n",
       "</div>"
      ],
      "text/plain": [
       "        user_id         user_key     created_at          created_str  \\\n",
       "0  2.532612e+09        kathiemrr  1488207240000  2017-02-27 14:54:00   \n",
       "1  2.531160e+09   traceyhappymom  1471272620000  2016-08-15 14:50:20   \n",
       "2           NaN    evewebster373  1435701369000  2015-06-30 21:56:09   \n",
       "3  4.840552e+09      blacktolive  1474013088000  2016-09-16 08:04:48   \n",
       "4  1.694026e+09  jacquelinisbest  1474227985000  2016-09-18 19:46:25   \n",
       "\n",
       "   retweet_count retweeted  favorite_count  \\\n",
       "0            NaN       NaN             NaN   \n",
       "1            NaN       NaN             NaN   \n",
       "2            NaN       NaN             NaN   \n",
       "3           18.0     False            17.0   \n",
       "4            0.0     False             0.0   \n",
       "\n",
       "                                                text      tweet_id  \\\n",
       "0    #ThingsDoneByMistake kissing auntie in the lips  8.362279e+17   \n",
       "1  RT @mc_derpin: #TheOlderWeGet the more pessimi...  7.651989e+17   \n",
       "2  RT @dmataconis: Ready To Feel Like A Failure? ...  6.160023e+17   \n",
       "3    Amen! #blacklivesmatter https://t.co/wGffaOqgzl  7.766933e+17   \n",
       "4  RT @NahBabyNah: Twitchy: Chuck Todd caught out...  7.775946e+17   \n",
       "\n",
       "                                              source                 hashtags  \\\n",
       "0                                                NaN  [\"ThingsDoneByMistake\"]   \n",
       "1                                                NaN        [\"TheOlderWeGet\"]   \n",
       "2                                                NaN                       []   \n",
       "3  <a href=\"http://twitter.com\" rel=\"nofollow\">Tw...     [\"Blacklivesmatter\"]   \n",
       "4  <a href=\"http://twitter.com\" rel=\"nofollow\">Tw...        [\"WakeUpAmerica\"]   \n",
       "\n",
       "                                 expanded_urls  posted        mentions  \\\n",
       "0                                           []  POSTED              []   \n",
       "1                                           []  POSTED              []   \n",
       "2                                           []  POSTED              []   \n",
       "3                                           []  POSTED              []   \n",
       "4  [\"http://ln.is/twitchy.com/loriz-31/3yafU\"]  POSTED  [\"nahbabynah\"]   \n",
       "\n",
       "   retweeted_status_id  in_reply_to_status_id  \n",
       "0                  NaN                    NaN  \n",
       "1                  NaN                    NaN  \n",
       "2                  NaN                    NaN  \n",
       "3                  NaN                    NaN  \n",
       "4         7.775915e+17                    NaN  "
      ]
     },
     "execution_count": 6,
     "metadata": {},
     "output_type": "execute_result"
    }
   ],
   "source": [
    "troll_tweets.head()"
   ]
  },
  {
   "cell_type": "markdown",
   "metadata": {},
   "source": [
    "Now we must ensure that we have the amount of data we expect."
   ]
  },
  {
   "cell_type": "code",
   "execution_count": 7,
   "metadata": {},
   "outputs": [
    {
     "ename": "AssertionError",
     "evalue": "",
     "output_type": "error",
     "traceback": [
      "\u001b[0;31m---------------------------------------------------------------------------\u001b[0m",
      "\u001b[0;31mAssertionError\u001b[0m                            Traceback (most recent call last)",
      "\u001b[0;32m<ipython-input-7-eb015316f004>\u001b[0m in \u001b[0;36m<module>\u001b[0;34m()\u001b[0m\n\u001b[1;32m     15\u001b[0m              \"friends_count\",\"listed_count\"]\n\u001b[1;32m     16\u001b[0m \u001b[0;34m\u001b[0m\u001b[0m\n\u001b[0;32m---> 17\u001b[0;31m \u001b[0;32massert\u001b[0m \u001b[0mpol_tweets\u001b[0m\u001b[0;34m.\u001b[0m\u001b[0mshape\u001b[0m \u001b[0;34m==\u001b[0m \u001b[0;34m(\u001b[0m\u001b[0mnum_pol_tweets\u001b[0m\u001b[0;34m,\u001b[0m \u001b[0mlen\u001b[0m\u001b[0;34m(\u001b[0m\u001b[0mtweet_cols\u001b[0m\u001b[0;34m)\u001b[0m\u001b[0;34m)\u001b[0m\u001b[0;34m\u001b[0m\u001b[0m\n\u001b[0m\u001b[1;32m     18\u001b[0m \u001b[0;32massert\u001b[0m \u001b[0mtroll_tweets\u001b[0m\u001b[0;34m.\u001b[0m\u001b[0mshape\u001b[0m \u001b[0;34m==\u001b[0m \u001b[0;34m(\u001b[0m\u001b[0mnum_troll_tweets\u001b[0m\u001b[0;34m,\u001b[0m \u001b[0mlen\u001b[0m\u001b[0;34m(\u001b[0m\u001b[0mtweet_cols\u001b[0m\u001b[0;34m)\u001b[0m\u001b[0;34m)\u001b[0m\u001b[0;34m\u001b[0m\u001b[0m\n\u001b[1;32m     19\u001b[0m \u001b[0;34m\u001b[0m\u001b[0m\n",
      "\u001b[0;31mAssertionError\u001b[0m: "
     ]
    }
   ],
   "source": [
    "num_pol_tweets = 1_661_553\n",
    "num_pol_users = 668\n",
    "\n",
    "num_troll_tweets = 203_451\n",
    "num_troll_users = 453\n",
    "\n",
    "tweet_cols = [\"user_id\", \"user_key\", \"created_at\", \"created_str\",\n",
    "              \"retweet_count\", \"retweeted\", \"favorite_count\", \"text\",\n",
    "              \"tweet_id\", \"source\", \"hashtags\", \"expanded_urls\",\n",
    "              \"posted\", \"mentions\", \"retweeted_status_id\", \"in_reply_to_status_id\"]\n",
    "\n",
    "user_cols = [\"id\", \"location\", \"name\", \"followers_count\",\n",
    "             \"statuses_count\", \"time_zone\", \"verified\", \"lang\",\n",
    "             \"screen_name\", \"description\", \"created_at\", \"favourites_count\",\n",
    "             \"friends_count\",\"listed_count\"]\n",
    "\n",
    "assert pol_tweets.shape == (num_pol_tweets, len(tweet_cols))\n",
    "assert troll_tweets.shape == (num_troll_tweets, len(tweet_cols))\n",
    "\n",
    "assert pol_users.shape == (num_pol_users, len(user_cols))\n",
    "assert troll_users.shape == (num_troll_users, len(user_cols))\n",
    "\n",
    "assert list(troll_tweets.columns) == tweet_cols\n",
    "assert list(troll_users.columns) == user_cols"
   ]
  },
  {
   "cell_type": "markdown",
   "metadata": {},
   "source": [
    "**We do not! This failure is expected**; Twitter's API continuously goes through changes, and data retrieved 1 year ago may not exactly match data retrieved 1 month ago. Therefore, we need to investigate how to best make matching DataFrames fit."
   ]
  },
  {
   "cell_type": "markdown",
   "metadata": {},
   "source": [
    "## Matching Columns"
   ]
  },
  {
   "cell_type": "markdown",
   "metadata": {},
   "source": [
    "### Tweet DataFrames"
   ]
  },
  {
   "cell_type": "markdown",
   "metadata": {},
   "source": [
    "Let's compare the columns of `pol_tweets` and `troll_tweets`, both of which use the same Tweet API:"
   ]
  },
  {
   "cell_type": "code",
   "execution_count": 8,
   "metadata": {},
   "outputs": [
    {
     "name": "stdout",
     "output_type": "stream",
     "text": [
      "['created_at', 'favorites_count', 'hashtag_entities', 'id', 'in_reply_to_status_id', 'quoted_status_id', 'retweet_count', 'tweet_text', 'url_entities', 'user_id']\n",
      "\n",
      "['created_at', 'created_str', 'expanded_urls', 'favorite_count', 'hashtags', 'in_reply_to_status_id', 'mentions', 'posted', 'retweet_count', 'retweeted', 'retweeted_status_id', 'source', 'text', 'tweet_id', 'user_id', 'user_key']\n"
     ]
    }
   ],
   "source": [
    "print(sorted(list(pol_tweets.columns)))\n",
    "print()\n",
    "print(sorted(list(troll_tweets.columns)))"
   ]
  },
  {
   "cell_type": "markdown",
   "metadata": {},
   "source": [
    "We can see the following potential \"conversions\" for column names in `pol_tweets`:\n",
    "- `id` -> `tweet_id`\n",
    "- `tweet_text` -> `text`\n",
    "- `hashtag_entities` -> `hashtags`\n",
    "- `url_entities` -> `expanded_urls`\n",
    "- `favorites_count` -> `favorite_count`\n",
    "\n",
    "Also, we see that `troll_tweets` has two columns representing the timestamp. We choose `created_str` because it has a string-formatted timestamp to match `pol_tweets`.\n",
    "\n",
    "We see that `user_key`, `created_str`, `retweeted`, `source`, `posted`, `mentions`, and `retweeted_status_id` are not in `pol_tweets`, whereas `quoted_status_id` is not in `troll_tweets`.\n",
    "\n",
    "Let's rename the columns that we can preserve in `pol_tweets`:"
   ]
  },
  {
   "cell_type": "code",
   "execution_count": 9,
   "metadata": {},
   "outputs": [],
   "source": [
    "pol_renaming = {'id': 'tweet_id', 'tweet_text': 'text', 'hashtag_entities': 'hashtags',\n",
    "                'url_entities': 'expanded_urls', 'favorites_count': 'favorite_count'}\n",
    "\n",
    "pol_tweets.rename(columns=pol_renaming, inplace=True)\n",
    "pol_tweets.drop('quoted_status_id', axis=1, inplace=True)"
   ]
  },
  {
   "cell_type": "code",
   "execution_count": 10,
   "metadata": {},
   "outputs": [],
   "source": [
    "troll_tweets.drop('created_at', axis=1, inplace=True)\n",
    "troll_tweets.rename(columns={'created_str': 'created_at'}, inplace=True)"
   ]
  },
  {
   "cell_type": "code",
   "execution_count": 11,
   "metadata": {},
   "outputs": [],
   "source": [
    "different_tweet_cols = ['user_key', 'retweeted', 'source', 'posted', \n",
    "                        'mentions', 'retweeted_status_id']\n",
    "\n",
    "expected_tweet_cols = [e for e in tweet_cols \n",
    "                       if e not in different_tweet_cols \n",
    "                       and e != 'created_str']\n",
    "\n",
    "assert sorted(pol_tweets.columns) == sorted(expected_tweet_cols)"
   ]
  },
  {
   "cell_type": "markdown",
   "metadata": {},
   "source": [
    "Since we're going to merge `pol_tweets` with `troll_tweets`, we need to drop all differing columns:"
   ]
  },
  {
   "cell_type": "code",
   "execution_count": 12,
   "metadata": {},
   "outputs": [],
   "source": [
    "troll_tweets.drop(columns=different_tweet_cols, axis=1, inplace=True)"
   ]
  },
  {
   "cell_type": "code",
   "execution_count": 13,
   "metadata": {},
   "outputs": [],
   "source": [
    "assert sorted(troll_tweets.columns) == sorted(expected_tweet_cols)\n",
    "assert sorted(pol_tweets.columns) == sorted(troll_tweets.columns)"
   ]
  },
  {
   "cell_type": "markdown",
   "metadata": {},
   "source": [
    "### User DataFrames"
   ]
  },
  {
   "cell_type": "markdown",
   "metadata": {},
   "source": [
    "We repeat the process for the user DataFrames, starting again by comparing columns:"
   ]
  },
  {
   "cell_type": "code",
   "execution_count": 14,
   "metadata": {},
   "outputs": [
    {
     "name": "stdout",
     "output_type": "stream",
     "text": [
      "['array_agg', 'created_at', 'description', 'id', 'is_verified', 'latest_followers_count', 'latest_following_count', 'latest_status_count', 'location', 'screen_name']\n",
      "\n",
      "['created_at', 'description', 'favourites_count', 'followers_count', 'friends_count', 'id', 'lang', 'listed_count', 'location', 'name', 'screen_name', 'statuses_count', 'time_zone', 'verified']\n"
     ]
    }
   ],
   "source": [
    "print(sorted(list(pol_users.columns)))\n",
    "print()\n",
    "print(sorted(list(troll_users.columns)))"
   ]
  },
  {
   "cell_type": "markdown",
   "metadata": {},
   "source": [
    "The first element, `array_agg`, is defined as an [array of human supplied tags for this user](https://data.world/bkey/politician-tweets). To avoid bias and to be able to use this model on any Twitter user, we cannot keep this element."
   ]
  },
  {
   "cell_type": "code",
   "execution_count": 15,
   "metadata": {},
   "outputs": [],
   "source": [
    "pol_users.drop('array_agg', axis=1, inplace=True)"
   ]
  },
  {
   "cell_type": "code",
   "execution_count": 16,
   "metadata": {},
   "outputs": [
    {
     "name": "stdout",
     "output_type": "stream",
     "text": [
      "['created_at', 'description', 'id', 'is_verified', 'latest_followers_count', 'latest_following_count', 'latest_status_count', 'location', 'screen_name']\n",
      "\n",
      "['created_at', 'description', 'favourites_count', 'followers_count', 'friends_count', 'id', 'lang', 'listed_count', 'location', 'name', 'screen_name', 'statuses_count', 'time_zone', 'verified']\n"
     ]
    }
   ],
   "source": [
    "print(sorted(list(pol_users.columns)))\n",
    "print()\n",
    "print(sorted(list(troll_users.columns)))"
   ]
  },
  {
   "cell_type": "markdown",
   "metadata": {},
   "source": [
    "The following columns represent the same data from `pol_users`:\n",
    "- `is_verified` -> `verified`\n",
    "- `latest_followers_count` -> `followers_count`\n",
    "- `latest_status_count` -> `statuses_count`\n",
    "\n",
    "`pol_users` contains `latest_following_count` which is not in `troll_users`. `troll_users` contains `favourites_count`, `friends_count`, `lang`, `listed_count`, `name`, and `time_zone` which are not in `pol_users`.\n",
    "\n",
    "Let's rename the columns in `pol_users` to fit `troll_users`:"
   ]
  },
  {
   "cell_type": "code",
   "execution_count": 17,
   "metadata": {},
   "outputs": [],
   "source": [
    "user_renaming = {'is_verified': 'verified', 'latest_followers_count': 'followers_count',\n",
    "                 'latest_status_count': 'statuses_count'}\n",
    "\n",
    "pol_users.rename(columns=user_renaming, inplace=True)\n",
    "pol_users.drop('latest_following_count', axis=1, inplace=True)"
   ]
  },
  {
   "cell_type": "code",
   "execution_count": 18,
   "metadata": {},
   "outputs": [],
   "source": [
    "diff_user_cols = ['favourites_count', 'friends_count', 'lang', 'listed_count', 'name', 'time_zone']\n",
    "\n",
    "expected_user_cols = [e for e in user_cols if e not in diff_user_cols]\n",
    "\n",
    "assert sorted(pol_users.columns) == sorted(expected_user_cols)"
   ]
  },
  {
   "cell_type": "markdown",
   "metadata": {},
   "source": [
    "Since we're going to merge `pol_users` with `troll_users`, we need to drop all differing columns:"
   ]
  },
  {
   "cell_type": "code",
   "execution_count": 19,
   "metadata": {},
   "outputs": [],
   "source": [
    "troll_users.drop(columns=diff_user_cols, axis=1, inplace=True)"
   ]
  },
  {
   "cell_type": "code",
   "execution_count": 20,
   "metadata": {},
   "outputs": [],
   "source": [
    "assert sorted(troll_users.columns) == sorted(expected_user_cols)"
   ]
  },
  {
   "cell_type": "markdown",
   "metadata": {},
   "source": [
    "## Adding Predictive Column"
   ]
  },
  {
   "cell_type": "markdown",
   "metadata": {},
   "source": [
    "To help the predictive algorithm, we need to add a label to each data point. All the U.S. Politicians can be labeled as \"not Russian Troll\", and we label data from the other csv files as \"Russian Troll\". \n",
    "\n",
    "We add a column to each DataFrame called `is_troll`, setting an integer value of `1` for trolls and `0` for U.S. Politicians."
   ]
  },
  {
   "cell_type": "code",
   "execution_count": 21,
   "metadata": {},
   "outputs": [],
   "source": [
    "predictor = 'is_troll'\n",
    "\n",
    "pol_tweets[predictor] = 0\n",
    "pol_users[predictor] = 0\n",
    "\n",
    "troll_tweets[predictor] = 1\n",
    "troll_users[predictor] = 1"
   ]
  },
  {
   "cell_type": "markdown",
   "metadata": {},
   "source": [
    "As stated in the Introductory notebook, the goal of this project is to be able to determine whether or not a user is a Russian troll based on the contents of their tweets. Therefore, we need to combine these 4 tables into 2: `tweets` and `users`."
   ]
  },
  {
   "cell_type": "code",
   "execution_count": 22,
   "metadata": {},
   "outputs": [],
   "source": [
    "tweets = pol_tweets.append(troll_tweets)\n",
    "users = pol_users.append(troll_users)"
   ]
  },
  {
   "cell_type": "code",
   "execution_count": 23,
   "metadata": {},
   "outputs": [],
   "source": [
    "tweet_cols.append(predictor)\n",
    "user_cols.append(predictor)\n",
    "\n",
    "expected_tweet_cols.append(predictor)\n",
    "expected_user_cols.append(predictor)\n",
    "\n",
    "assert tweets.shape == (num_pol_tweets + num_troll_tweets, len(expected_tweet_cols))\n",
    "assert users.shape == (num_pol_users + num_troll_users, len(expected_user_cols))\n",
    "\n",
    "assert sorted(list(tweets.columns)) == sorted(expected_tweet_cols) \n",
    "assert sorted(list(users.columns)) == sorted(expected_user_cols)"
   ]
  },
  {
   "cell_type": "markdown",
   "metadata": {},
   "source": [
    "## Export"
   ]
  },
  {
   "cell_type": "markdown",
   "metadata": {},
   "source": [
    "Finally, we write these combined DataFrames to disk as `csv` files. We name them `tweets.csv` and `users.csv`, respectively. We do not store indices and, to support the plethora of emojis that Tweets often contain, we encode as `utf-8`."
   ]
  },
  {
   "cell_type": "code",
   "execution_count": 24,
   "metadata": {},
   "outputs": [],
   "source": [
    "# This code takes ~20 seconds to run.\n",
    "\n",
    "tweets.to_csv('/data/skhillon/tweets.csv', sep=',', index=False, encoding='utf-8')\n",
    "users.to_csv('/data/skhillon/users.csv', sep=',', index=False, encoding='utf-8')"
   ]
  },
  {
   "cell_type": "markdown",
   "metadata": {},
   "source": [
    "< [**Previous**: 01 - Introduction](01-Introduction.ipynb) | [**Next**: 03 - Tidy](03-Tidy.ipynb) >"
   ]
  },
  {
   "cell_type": "code",
   "execution_count": null,
   "metadata": {},
   "outputs": [],
   "source": []
  }
 ],
 "metadata": {
  "kernelspec": {
   "display_name": "Python 3",
   "language": "python",
   "name": "python3"
  },
  "language_info": {
   "codemirror_mode": {
    "name": "ipython",
    "version": 3
   },
   "file_extension": ".py",
   "mimetype": "text/x-python",
   "name": "python",
   "nbconvert_exporter": "python",
   "pygments_lexer": "ipython3",
   "version": "3.6.3"
  }
 },
 "nbformat": 4,
 "nbformat_minor": 2
}
