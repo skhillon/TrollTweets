{
 "cells": [
  {
   "cell_type": "markdown",
   "metadata": {},
   "source": [
    "# Introduction: *Identification of Russian Trolls on Twitter*"
   ]
  },
  {
   "cell_type": "markdown",
   "metadata": {},
   "source": [
    "< [**Previous:** 00 - Project Guidelines](00-ProjectGuidelines.ipynb) | [**Next**: 02 - Import](02-Import.ipynb) >"
   ]
  },
  {
   "cell_type": "markdown",
   "metadata": {},
   "source": [
    "Written by Sarthak Khillon.\n",
    "\n",
    "Created for Professor Brian Granger's *DATA 301: Introduction to Data Science* course at Cal Poly SLO. "
   ]
  },
  {
   "cell_type": "markdown",
   "metadata": {},
   "source": [
    "## Index"
   ]
  },
  {
   "cell_type": "markdown",
   "metadata": {},
   "source": [
    "- [00 - Project Guidelines](00-ProjectGuidelines.ipynb)\n",
    "- 01 - Introduction (you are here)\n",
    "- [02 - Import](02-Import.ipynb)\n",
    "- [03 - Tidy](03-Tidy.ipynb)\n",
    "- [04 - EDA](04-EDA.ipynb)\n",
    "- [05 - Modeling](05-Modeling.ipynb)\n",
    "- [06 - Presentation](06-Presentation.ipynb)"
   ]
  },
  {
   "cell_type": "markdown",
   "metadata": {},
   "source": [
    "## Abstract"
   ]
  },
  {
   "cell_type": "markdown",
   "metadata": {},
   "source": [
    "Recently, evidence has been mounting that Russia influenced the 2016 U.S. Presidential election, primarily by creating social media buzz to polarize voters against the other side. Social media feeds further reinforce this echo chamber by serving content that users would like (see [Blue Feed, Red Feed](http://graphics.wsj.com/blue-feed-red-feed/) from the Wall Street Journal). Social media giants have begun flagging content from questionable sources in an effort to combat this effect. In December 2016, Facebook [began flagging fake news](https://newsroom.fb.com/news/2016/12/news-feed-fyi-addressing-hoaxes-and-fake-news/) but [stopped in December 2017](https://medium.com/facebook-design/designing-against-misinformation-e5846b3aa1e2) due to a variety of reasons, one being that it [may backfire and further reinforce biased opinions](http://journals.sagepub.com/doi/pdf/10.1177/1529100612451018). \n",
    "\n",
    "However, content shared on Twitter is different as it is less of a series of links and more of a series of user opinions. An exclusive article from NBC revealed a data set of over 200,000 tweets from over 400 accounts marked as Russian trolls. **The aim of this project is to create an algorithm that identifies accounts as Russian trolls.**"
   ]
  },
  {
   "cell_type": "markdown",
   "metadata": {},
   "source": [
    "## Data Sets"
   ]
  },
  {
   "cell_type": "markdown",
   "metadata": {},
   "source": [
    "There are 4 raw data sets and 2 main data sets, all of which are located in `/data/skhillon/`. The two main data sets are `tweets.csv` and `users.csv`, which are composed of their `pol` and `troll` sub-parts.\n",
    "\n",
    "See the [Twitter Developer Documentation](https://developer.twitter.com/en/docs/tweets/data-dictionary/overview/tweet-object) for a complete reference of the fields. Note that the documentation may have been updated since the creation of this dataset.\n",
    "\n",
    "**tweets.csv**: Contains tweets by users flagged as Russian Trolls.\n",
    "    - user_id (int): Twitter User ID.\n",
    "    - user_key (str): User's \"handle\"\n",
    "    - created_at (int): Account creation date (assumed to be number of seconds since UNIX Epoch).\n",
    "    - retweet_count (int): Number of users who retweeted this tweet.\n",
    "    - retweeted (str): A boolean status indicating whether this tweet was retweeted. *On visual scan, values are either empty or FALSE\"*\n",
    "    - favorite_count (int): Number of users who favorited this tweet.\n",
    "    - text (str): The tweet itself.\n",
    "    - tweet_id (int): A numeric identifier for this specific tweet.\n",
    "    - source (str): An HTML link.\n",
    "    - hashtags ([str]): An array of hashtags found in the tweet.\n",
    "    - expanded_urls ([str]): Twitter encodes URLs into its own \"t.co\"-type links. This array contains a list of the original URLs found in the tweet.\n",
    "    - posted (str): Not sure; seems to indicate whether or not the tweet was posted. *On visual scan, all values here are the same: \"POSTED\"*\n",
    "    - mentions ([str]): Array of other Twitter users mentioned in the tweet.\n",
    "    - retweeted_status_id (int): If this tweet is a retweet, this field indicates the id of the original tweet.\n",
    "    - in_reply_to_status_id (int): If this tweet is replying to another tweet, this field indicates the id of the original tweet.\n",
    "\n",
    "**users.csv**: Contains information on each user flagged as a Russian troll.\n",
    "    - id (int): Twitter User ID.\n",
    "    - location (str): User's Location\n",
    "    - followers_count (int): Number of users who follow this user.\n",
    "    - statuses_count (int): Number of tweets posted.\n",
    "    - time_zone (str): User's Time Zone.\n",
    "    - verified (str): A boolean status, TRUE or FALSE, indicating whether or not the user's account is verified by Twitter. *On visual scan, all values seem to be \"FALSE\"*\n",
    "    - lang (str): User's profile language setting.\n",
    "    - screen_name (str): User's \"handle\".\n",
    "    - description (str): How the user describes themselves; a \"bio\".\n",
    "    - created_at (str): Account creation date.\n",
    "    - favourites_count (int): Number of tweets favorited.\n",
    "    - friends_count (int): Number of friends on Twitter.\n",
    "    - listed_count (int): Number of times this user appears on another user's list (ex: \"top ten celebrities\")"
   ]
  },
  {
   "cell_type": "markdown",
   "metadata": {},
   "source": [
    "## Citations"
   ]
  },
  {
   "cell_type": "markdown",
   "metadata": {},
   "source": [
    "- I first found the troll datasets mentioned in a Reddit post from [/r/datasets](https://www.reddit.com/r/datasets/) titled [*\"200K tweets from Russian trolls manipulating 2016 election; deleted by twitter, unavailable elsewhere\"*](https://www.google.com). The post was created by [/u/everywhere_anyhow](https://www.reddit.com/user/everywhere_anyhow) on Wednesday, February 14, 2018 at 12:31:25 UTC.\n",
    "- The Reddit post links to an article from NBC News titled [*\"Twitter deleted 200,000 Russian troll tweets. Read them here.\"*](https://www.nbcnews.com/tech/social-media/now-available-more-200-000-deleted-russian-troll-tweets-n844731) The article, which contains links to the raw data files, was published by Ben Popken on February 14, 2018 at 1:55 AM EST. Data was obtaining by running `wget` in `/data/skhillon/` with links to the 2 datasets.\n",
    "- The politician, non-troll tweets were found at a [data.world](https://data.world/bkey/politician-tweets) post, which was also obtained by running `wget` in `/data/skhillon/`. The dataset was uploaded on April 7, 2017."
   ]
  },
  {
   "cell_type": "markdown",
   "metadata": {},
   "source": [
    "< [**Previous:** 00 - Project Guidelines](00-ProjectGuidelines.ipynb) | [**Next**: 02 - Import](02-Import.ipynb) >"
   ]
  },
  {
   "cell_type": "code",
   "execution_count": null,
   "metadata": {},
   "outputs": [],
   "source": []
  }
 ],
 "metadata": {
  "kernelspec": {
   "display_name": "Python 3",
   "language": "python",
   "name": "python3"
  },
  "language_info": {
   "codemirror_mode": {
    "name": "ipython",
    "version": 3
   },
   "file_extension": ".py",
   "mimetype": "text/x-python",
   "name": "python",
   "nbconvert_exporter": "python",
   "pygments_lexer": "ipython3",
   "version": "3.6.3"
  }
 },
 "nbformat": 4,
 "nbformat_minor": 2
}
